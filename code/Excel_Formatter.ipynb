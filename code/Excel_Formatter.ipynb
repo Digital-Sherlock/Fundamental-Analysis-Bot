{
 "cells": [
  {
   "cell_type": "markdown",
   "metadata": {},
   "source": [
    "# Putting it all together into the Excel"
   ]
  },
  {
   "cell_type": "markdown",
   "metadata": {},
   "source": [
    "This part of the code will concentrate on formatting the stock's data and organizing it in the Excel document via xlsxwriter."
   ]
  },
  {
   "cell_type": "code",
   "execution_count": 11,
   "metadata": {},
   "outputs": [],
   "source": [
    "import xlsxwriter\n",
    "import pandas as pd\n",
    "from ipynb.fs.full.Balance_Sheet import balance_sheet\n",
    "from ipynb.fs.full.Income_Statement import income_statement"
   ]
  },
  {
   "cell_type": "code",
   "execution_count": 12,
   "metadata": {},
   "outputs": [],
   "source": [
    "writer = pd.ExcelWriter('fundamental_analysis.xlsx', engine='xlsxwriter')\n",
    "income_statement.to_excel(writer, sheet_name='Income Statement', startrow=1, header=False)\n",
    "balance_sheet.to_excel(writer, sheet_name='Balance Sheet', startrow=1, header=False)"
   ]
  },
  {
   "cell_type": "markdown",
   "metadata": {},
   "source": [
    "### Formatting\n",
    "\n",
    "The next part of the code will create formats for the cells of the Excel file. Here's the list of the formats that will be used:\n",
    "\n",
    "- String format for rows' names\n",
    "- Date format for columns\n",
    "- Integer format for values\n",
    "- Percentage format for growth"
   ]
  },
  {
   "cell_type": "code",
   "execution_count": 13,
   "metadata": {},
   "outputs": [],
   "source": [
    "standard_font_color = '#000000'\n",
    "background = '#FFFFFF'\n",
    "columns_background = '#92CDDC'\n",
    "indices_background = '#FABF8F'\n",
    "\n",
    "indices_format = writer.book.add_format(\n",
    "    {\n",
    "        'font_color': standard_font_color,\n",
    "        'bg_color': indices_background,\n",
    "        'border': 1,\n",
    "        'bold': True\n",
    "    }\n",
    ")\n",
    "\n",
    "header_format = writer.book.add_format(\n",
    "    {\n",
    "        'bold': True,\n",
    "        'font_color': standard_font_color,\n",
    "        'bg_color': columns_background,\n",
    "        'border': 1,\n",
    "        'num_format': 'yyyy-mm-dd'\n",
    "    }\n",
    ")\n",
    "\n",
    "integer_format = writer.book.add_format(\n",
    "    {\n",
    "        'num_format': '0.00',\n",
    "        'font_color': standard_font_color,\n",
    "        'bg_color': background,\n",
    "        'border': 1,\n",
    "    }\n",
    ")\n",
    "\n",
    "percentage_format_positive = writer.book.add_format(\n",
    "    {\n",
    "        'num_format': '0.00%',\n",
    "        'font_color': '#00B050',\n",
    "        'bg_color': background,\n",
    "        'border': 1,\n",
    "    }\n",
    ")\n",
    "\n",
    "percentage_format_negative = writer.book.add_format(\n",
    "    {\n",
    "        'num_format': '0.00%',\n",
    "        'font_color': '#FF0000',\n",
    "        'bg_color': background,\n",
    "        'border': 1,\n",
    "    }\n",
    ")"
   ]
  },
  {
   "cell_type": "markdown",
   "metadata": {},
   "source": [
    "Modifying the headers as well as the columns width."
   ]
  },
  {
   "cell_type": "code",
   "execution_count": 14,
   "metadata": {},
   "outputs": [],
   "source": [
    "for header_index, header in enumerate(balance_sheet.columns):\n",
    "    writer.sheets['Income Statement'].write(0, header_index + 1, header, header_format)\n",
    "    writer.sheets['Income Statement'].set_column(header_index + 1, header_index + 1, 18)\n",
    "    writer.sheets['Balance Sheet'].write(0, header_index + 1, header, header_format)\n",
    "    writer.sheets['Balance Sheet'].set_column(header_index + 1, header_index + 1, 18)"
   ]
  },
  {
   "cell_type": "markdown",
   "metadata": {},
   "source": [
    "Changing the rows formats."
   ]
  },
  {
   "cell_type": "code",
   "execution_count": 16,
   "metadata": {},
   "outputs": [
    {
     "name": "stderr",
     "output_type": "stream",
     "text": [
      "C:\\Users\\vadim\\AppData\\Local\\Temp\\ipykernel_29856\\145714528.py:37: FutureWarning: save is not part of the public API, usage can give unexpected results and will be removed in a future version\n",
      "  writer.save()\n",
      "c:\\Users\\vadim\\AppData\\Local\\Programs\\Python\\Python39\\lib\\site-packages\\xlsxwriter\\workbook.py:339: UserWarning: Calling close() on already closed file.\n",
      "  warn(\"Calling close() on already closed file.\")\n"
     ]
    }
   ],
   "source": [
    "# Column A's width adjustment\n",
    "writer.sheets['Balance Sheet'].set_column(0, 0, 35)\n",
    "writer.sheets['Income Statement'].set_column(0, 0, 30)\n",
    "\n",
    "\n",
    "# Iterating over dataset values and applyting Excel formatting (balance_sheet)\n",
    "for col_num, col_name in enumerate(balance_sheet.columns):\n",
    "    for row_num, row_name in enumerate(balance_sheet.index):\n",
    "        writer.sheets['Balance Sheet'].write(row_num + 1, 0, row_name, indices_format)\n",
    "        if 'Growth' in row_name:\n",
    "            try:\n",
    "                if float(balance_sheet.loc[row_name, col_name]) > 0:\n",
    "                    writer.sheets['Balance Sheet'].write(row_num + 1, col_num + 1, balance_sheet.loc[row_name, col_name], percentage_format_positive)\n",
    "                else:\n",
    "                    writer.sheets['Balance Sheet'].write(row_num + 1, col_num + 1, balance_sheet.loc[row_name, col_name], percentage_format_negative)\n",
    "            except ValueError:\n",
    "                    writer.sheets['Balance Sheet'].write(row_num + 1, col_num + 1, balance_sheet.loc[row_name, col_name], integer_format)\n",
    "        else:\n",
    "            writer.sheets['Balance Sheet'].write(row_num + 1, col_num + 1, balance_sheet.loc[row_name, col_name], integer_format)\n",
    "\n",
    "\n",
    "# Iterating over dataset values and applyting Excel formatting (income_statement)\n",
    "for col_num, col_name in enumerate(income_statement.columns):\n",
    "    for row_num, row_name in enumerate(income_statement.index):\n",
    "        writer.sheets['Income Statement'].write(row_num + 1, 0, row_name, indices_format)\n",
    "        if 'Growth' in row_name:\n",
    "            try:\n",
    "                if float(income_statement.loc[row_name, col_name]) > 0:\n",
    "                    writer.sheets['Income Statement'].write(row_num + 1, col_num + 1, income_statement.loc[row_name, col_name], percentage_format_positive)\n",
    "                else:\n",
    "                    writer.sheets['Income Statement'].write(row_num + 1, col_num + 1, income_statement.loc[row_name, col_name], percentage_format_negative)\n",
    "            except ValueError:\n",
    "                    writer.sheets['Income Statement'].write(row_num + 1, col_num + 1, income_statement.loc[row_name, col_name], integer_format)\n",
    "        else:\n",
    "            writer.sheets['Income Statement'].write(row_num + 1, col_num + 1, income_statement.loc[row_name, col_name], integer_format)\n",
    "\n",
    "writer.save()"
   ]
  },
  {
   "cell_type": "code",
   "execution_count": null,
   "metadata": {},
   "outputs": [],
   "source": []
  }
 ],
 "metadata": {
  "kernelspec": {
   "display_name": "Python 3.9.2 64-bit",
   "language": "python",
   "name": "python3"
  },
  "language_info": {
   "codemirror_mode": {
    "name": "ipython",
    "version": 3
   },
   "file_extension": ".py",
   "mimetype": "text/x-python",
   "name": "python",
   "nbconvert_exporter": "python",
   "pygments_lexer": "ipython3",
   "version": "3.9.2"
  },
  "orig_nbformat": 4,
  "vscode": {
   "interpreter": {
    "hash": "1a42b1e45ecd366e3fc1ed5dd61ec23eafef6375ddb57364fb44d049b0f96f2b"
   }
  }
 },
 "nbformat": 4,
 "nbformat_minor": 2
}
