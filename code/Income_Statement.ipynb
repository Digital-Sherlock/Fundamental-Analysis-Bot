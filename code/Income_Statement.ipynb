{
 "cells": [
  {
   "cell_type": "markdown",
   "metadata": {},
   "source": [
    "# Retreiving and Preparing Stock's Income Statement Information\n",
    "This section of the code will concentrate on extracting stock's income statement information from IEX Cloud API. At the end, this section of the code provide the complete and formatted income statement dataset.  "
   ]
  },
  {
   "cell_type": "markdown",
   "metadata": {},
   "source": [
    "## Importing neccessary modules"
   ]
  },
  {
   "cell_type": "code",
   "execution_count": 1,
   "metadata": {},
   "outputs": [],
   "source": [
    "import pandas as pd\n",
    "import numpy as np\n",
    "import requests"
   ]
  },
  {
   "cell_type": "markdown",
   "metadata": {},
   "source": [
    "## Setting up base URL"
   ]
  },
  {
   "cell_type": "markdown",
   "metadata": {},
   "source": [
    "Notes:\n",
    "- base URL for income statement - \"stock/{symbol}/income\" | doesn't have everything I need\n",
    "- base url for financials returns a mix of income statement, balance sheet, and cash flow (might wanna use it here) - \"/stock/{symbol}/financials/\""
   ]
  },
  {
   "cell_type": "code",
   "execution_count": 2,
   "metadata": {},
   "outputs": [
    {
     "name": "stdout",
     "output_type": "stream",
     "text": [
      "{'symbol': 'AAPL', 'income': [{'costOfRevenue': 53528895177, 'currency': 'USD', 'ebit': 25470388765, 'filingType': '10-K', 'fiscalDate': '2022-09-15', 'fiscalQuarter': 4, 'fiscalYear': 2113, 'grossProfit': 38865916717, 'incomeTax': 4042359219, 'interestIncome': 847417614, 'minorityInterest': 0, 'netIncome': 21149501354, 'netIncomeBasic': 21728622749, 'operatingExpense': 67527961445, 'operatingIncome': 26066970344, 'otherIncomeExpenseNet': 0, 'pretaxIncome': 25712362760, 'reportDate': '2022-10-25', 'researchAndDevelopment': 7084489883, 'sellingGeneralAndAdmin': 6474859957, 'symbol': 'AAPL', 'totalRevenue': 91549555004, 'id': 'CMIONE', 'key': 'LPAA', 'subkey': 'quarterly', 'date': 1663977600000, 'updated': 1744259868207}]}\n"
     ]
    }
   ],
   "source": [
    "from api_secret import IEX_CLOUD_API_TOKEN\n",
    "\n",
    "api_endpoint = f'https://sandbox.iexapis.com/stable/stock/AAPL/income?token={IEX_CLOUD_API_TOKEN}'\n",
    "\n",
    "stock_income_data = requests.get(api_endpoint).json()\n",
    "print(stock_income_data)"
   ]
  },
  {
   "cell_type": "code",
   "execution_count": null,
   "metadata": {},
   "outputs": [],
   "source": []
  }
 ],
 "metadata": {
  "kernelspec": {
   "display_name": "Python 3.9.2 ('PlayGround-k6dDLsms')",
   "language": "python",
   "name": "python3"
  },
  "language_info": {
   "codemirror_mode": {
    "name": "ipython",
    "version": 3
   },
   "file_extension": ".py",
   "mimetype": "text/x-python",
   "name": "python",
   "nbconvert_exporter": "python",
   "pygments_lexer": "ipython3",
   "version": "3.9.2"
  },
  "orig_nbformat": 4,
  "vscode": {
   "interpreter": {
    "hash": "d439a4d88a635724e1380ad489ff0e30986e372471f15122e73c4f7d32e470eb"
   }
  }
 },
 "nbformat": 4,
 "nbformat_minor": 2
}
