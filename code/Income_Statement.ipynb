{
 "cells": [
  {
   "cell_type": "markdown",
   "metadata": {},
   "source": [
    "# Retreiving and Preparing Stock's Income Statement Information\n",
    "This section of the code will concentrate on extracting stock's income statement information from IEX Cloud API. At the end, this section of the code provide the complete and formatted income statement dataset.  "
   ]
  },
  {
   "cell_type": "markdown",
   "metadata": {},
   "source": [
    "## Importing neccessary modules"
   ]
  },
  {
   "cell_type": "code",
   "execution_count": 2,
   "metadata": {},
   "outputs": [],
   "source": [
    "import pandas as pd\n",
    "import numpy as np\n",
    "import requests"
   ]
  },
  {
   "cell_type": "markdown",
   "metadata": {},
   "source": [
    "## Setting up base URL"
   ]
  },
  {
   "cell_type": "markdown",
   "metadata": {},
   "source": [
    "Fetching the fundamentals and finacial data about the stock from ther IEX Cloud endpoints. Batch API call."
   ]
  },
  {
   "cell_type": "code",
   "execution_count": 9,
   "metadata": {},
   "outputs": [
    {
     "name": "stdout",
     "output_type": "stream",
     "text": [
      "{'AAPL': {'financials': {'symbol': 'AAPL', 'financials': [{'accountsPayable': 64428540881, 'capitalSurplus': None, 'cashChange': 48455708303, 'cashFlow': 24338534441, 'cashFlowFinancing': -26950332062, 'changesInInventories': 4981939982, 'changesInReceivables': 61830765192, 'commonStock': 16222138113, 'costOfRevenue': 52289757729, 'currency': 'USD', 'currentAssets': 140097906322, 'currentCash': 48968557363, 'currentDebt': 21952680071, 'currentLongTermDebt': 21362132560, 'depreciation': 2870734827, 'dividendsPaid': None, 'ebit': 26006665542, 'EBITDA': 28739349046, 'exchangeRateEffect': None, 'filingType': '10-K', 'fiscalDate': '2022-09-18', 'fiscalQuarter': 4, 'fiscalYear': 2046, 'goodwill': 0, 'grossProfit': 38763099290, 'incomeTax': 4085589218, 'intangibleAssets': 0, 'interestIncome': 844862732, 'inventory': 5028904948, 'investingActivityOther': None, 'investments': None, 'longTermDebt': 103761916657, 'longTermInvestments': 221357968100, 'minorityInterest': 0, 'netBorrowings': 52331864690, 'netIncome': 21075615239, 'netIncomeBasic': 21225627060, 'netTangibleAssets': 51836522638, 'operatingExpense': 66947643605, 'operatingIncome': 25948447440, 'operatingRevenue': 92984990735, 'otherAssets': 55166302158, 'otherCurrentAssets': 21273463198, 'otherCurrentLiabilities': 71963722431, 'otherIncomeExpenseNet': 0, 'otherLiabilities': 50530990783, 'pretaxIncome': 25487854963, 'propertyPlantEquipment': 43288388225, 'receivables': 62262253806, 'reportDate': '2022-10-13', 'researchAndDevelopment': 6779682744, 'retainedEarnings': -3076582005, 'revenue': 90640461993, 'sellingGeneralAndAdmin': 6442624757, 'shareholderEquity': 52868917411, 'shortTermDebt': 21961236556, 'shortTermInvestments': 22128610928, 'symbol': 'AAPL', 'totalAssets': 369139893945, 'totalCash': 48320454938, 'totalDebt': 125567644273, 'totalInvestingCashFlows': -1261964929, 'totalLiabilities': 306617805971, 'totalRevenue': 92652131042, 'treasuryStock': 0, 'id': 'CNASIIAFNL', 'key': 'APLA', 'subkey': 'quarterly', 'date': 1663977600000, 'updated': 1681762647459}]}, 'income': {'symbol': 'AAPL', 'income': [{'costOfRevenue': 52348791262, 'currency': 'USD', 'ebit': 24928251132, 'filingType': '10-K', 'fiscalDate': '2022-09-14', 'fiscalQuarter': 4, 'fiscalYear': 2079, 'grossProfit': 39362622753, 'incomeTax': 4056207244, 'interestIncome': 856084834, 'minorityInterest': 0, 'netIncome': 21139426518, 'netIncomeBasic': 21171494825, 'operatingExpense': 66723572722, 'operatingIncome': 25023624896, 'otherIncomeExpenseNet': 0, 'pretaxIncome': 25581397807, 'reportDate': '2022-10-23', 'researchAndDevelopment': 7074288465, 'sellingGeneralAndAdmin': 6707660580, 'symbol': 'AAPL', 'totalRevenue': 91195443476, 'id': 'CMENOI', 'key': 'ALAP', 'subkey': 'quarterly', 'date': 1663977600000, 'updated': 1686681976557}]}}}\n"
     ]
    }
   ],
   "source": [
    "from api_secret import IEX_CLOUD_API_TOKEN\n",
    "\n",
    "api_endpoint = f'https://sandbox.iexapis.com/stable/stock/market/batch?symbols=AAPL&types=income,financials&token={IEX_CLOUD_API_TOKEN}'\n",
    "\n",
    "stock_income_data = requests.get(api_endpoint).json()\n",
    "print(stock_income_data)"
   ]
  },
  {
   "cell_type": "code",
   "execution_count": null,
   "metadata": {},
   "outputs": [],
   "source": []
  }
 ],
 "metadata": {
  "kernelspec": {
   "display_name": "Python 3.9.2 ('PlayGround-k6dDLsms')",
   "language": "python",
   "name": "python3"
  },
  "language_info": {
   "codemirror_mode": {
    "name": "ipython",
    "version": 3
   },
   "file_extension": ".py",
   "mimetype": "text/x-python",
   "name": "python",
   "nbconvert_exporter": "python",
   "pygments_lexer": "ipython3",
   "version": "3.9.2"
  },
  "orig_nbformat": 4,
  "vscode": {
   "interpreter": {
    "hash": "d439a4d88a635724e1380ad489ff0e30986e372471f15122e73c4f7d32e470eb"
   }
  }
 },
 "nbformat": 4,
 "nbformat_minor": 2
}
